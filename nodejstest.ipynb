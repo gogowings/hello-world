{
 "cells": [
  {
   "cell_type": "markdown",
   "metadata": {},
   "source": [
    "## Javascript in Notebook Test\n",
    "\n",
    "Updated on 9/7/2018"
   ]
  },
  {
   "cell_type": "code",
   "execution_count": 1,
   "metadata": {},
   "outputs": [
    {
     "name": "stdout",
     "output_type": "stream",
     "text": [
      "Collecting pixiedust\n",
      "  Downloading https://files.pythonhosted.org/packages/e6/fe/6c4cecfc7ec0e66f9ff1864b09a6928ed30eb1ee911ded77abdb16a523e2/pixiedust-1.1.10.tar.gz (188kB)\n",
      "Collecting mpld3 (from pixiedust)\n",
      "  Downloading https://files.pythonhosted.org/packages/91/95/a52d3a83d0a29ba0d6898f6727e9858fe7a43f6c2ce81a5fe7e05f0f4912/mpld3-0.3.tar.gz (788kB)\n",
      "Requirement already satisfied: lxml in c:\\users\\andyxu\\appdata\\local\\continuum\\anaconda3\\lib\\site-packages (from pixiedust)\n",
      "Collecting geojson (from pixiedust)\n",
      "  Downloading https://files.pythonhosted.org/packages/1c/59/5d8f40aa03591d68fa6bf99268810c66a0fbc82b9598e40822f3fd9149d2/geojson-2.3.0-py2.py3-none-any.whl\n",
      "Collecting astunparse (from pixiedust)\n",
      "  Downloading https://files.pythonhosted.org/packages/8b/ea/d38686f1718e307d83673d905dcffd142640a31a217e4e76d1de78f21b20/astunparse-1.5.0-py2.py3-none-any.whl\n",
      "Collecting markdown (from pixiedust)\n",
      "  Downloading https://files.pythonhosted.org/packages/6d/7d/488b90f470b96531a3f5788cf12a93332f543dbab13c423a5e7ce96a0493/Markdown-2.6.11-py2.py3-none-any.whl (78kB)\n",
      "Requirement already satisfied: six<2.0,>=1.6.1 in c:\\users\\andyxu\\appdata\\local\\continuum\\anaconda3\\lib\\site-packages (from astunparse->pixiedust)\n",
      "Requirement already satisfied: wheel<1.0,>=0.23.0 in c:\\users\\andyxu\\appdata\\local\\continuum\\anaconda3\\lib\\site-packages (from astunparse->pixiedust)\n",
      "Building wheels for collected packages: pixiedust, mpld3\n",
      "  Running setup.py bdist_wheel for pixiedust: started\n",
      "  Running setup.py bdist_wheel for pixiedust: finished with status 'done'\n",
      "  Stored in directory: C:\\Users\\andyxu\\AppData\\Local\\pip\\Cache\\wheels\\50\\c2\\b0\\6f8eeea519290a2ac7650f3bdab5aa1dad76fcac31f0a931b5\n",
      "  Running setup.py bdist_wheel for mpld3: started\n",
      "  Running setup.py bdist_wheel for mpld3: finished with status 'done'\n",
      "  Stored in directory: C:\\Users\\andyxu\\AppData\\Local\\pip\\Cache\\wheels\\c0\\47\\fb\\8a64f89aecfe0059830479308ad42d62e898a3e3cefdf6ba28\n",
      "Successfully built pixiedust mpld3\n",
      "Installing collected packages: mpld3, geojson, astunparse, markdown, pixiedust\n",
      "Successfully installed astunparse-1.5.0 geojson-2.3.0 markdown-2.6.11 mpld3-0.3 pixiedust-1.1.10\n"
     ]
    },
    {
     "name": "stderr",
     "output_type": "stream",
     "text": [
      "You are using pip version 9.0.1, however version 10.0.1 is available.\n",
      "You should consider upgrading via the 'python -m pip install --upgrade pip' command.\n"
     ]
    },
    {
     "name": "stdout",
     "output_type": "stream",
     "text": [
      "Collecting pixiedust_node\n",
      "  Downloading https://files.pythonhosted.org/packages/f0/ea/7c92581d0e046d61d482c3d30bed52fe9febf485243b50f76909371557a0/pixiedust_node-0.2.5.tar.gz\n",
      "Requirement already satisfied: pixiedust in c:\\users\\andyxu\\appdata\\local\\continuum\\anaconda3\\lib\\site-packages (from pixiedust_node)\n",
      "Requirement already satisfied: pandas in c:\\users\\andyxu\\appdata\\local\\continuum\\anaconda3\\lib\\site-packages (from pixiedust_node)\n",
      "Requirement already satisfied: ipython in c:\\users\\andyxu\\appdata\\local\\continuum\\anaconda3\\lib\\site-packages (from pixiedust_node)\n",
      "Requirement already satisfied: mpld3 in c:\\users\\andyxu\\appdata\\local\\continuum\\anaconda3\\lib\\site-packages (from pixiedust->pixiedust_node)\n",
      "Requirement already satisfied: geojson in c:\\users\\andyxu\\appdata\\local\\continuum\\anaconda3\\lib\\site-packages (from pixiedust->pixiedust_node)\n",
      "Requirement already satisfied: markdown in c:\\users\\andyxu\\appdata\\local\\continuum\\anaconda3\\lib\\site-packages (from pixiedust->pixiedust_node)\n",
      "Requirement already satisfied: astunparse in c:\\users\\andyxu\\appdata\\local\\continuum\\anaconda3\\lib\\site-packages (from pixiedust->pixiedust_node)\n",
      "Requirement already satisfied: lxml in c:\\users\\andyxu\\appdata\\local\\continuum\\anaconda3\\lib\\site-packages (from pixiedust->pixiedust_node)\n",
      "Requirement already satisfied: python-dateutil>=2 in c:\\users\\andyxu\\appdata\\local\\continuum\\anaconda3\\lib\\site-packages (from pandas->pixiedust_node)\n",
      "Requirement already satisfied: pytz>=2011k in c:\\users\\andyxu\\appdata\\local\\continuum\\anaconda3\\lib\\site-packages (from pandas->pixiedust_node)\n",
      "Requirement already satisfied: numpy>=1.7.0 in c:\\users\\andyxu\\appdata\\local\\continuum\\anaconda3\\lib\\site-packages (from pandas->pixiedust_node)\n",
      "Requirement already satisfied: setuptools>=18.5 in c:\\users\\andyxu\\appdata\\local\\continuum\\anaconda3\\lib\\site-packages (from ipython->pixiedust_node)\n",
      "Requirement already satisfied: jedi>=0.10 in c:\\users\\andyxu\\appdata\\local\\continuum\\anaconda3\\lib\\site-packages (from ipython->pixiedust_node)\n",
      "Requirement already satisfied: decorator in c:\\users\\andyxu\\appdata\\local\\continuum\\anaconda3\\lib\\site-packages (from ipython->pixiedust_node)\n",
      "Requirement already satisfied: pickleshare in c:\\users\\andyxu\\appdata\\local\\continuum\\anaconda3\\lib\\site-packages (from ipython->pixiedust_node)\n",
      "Requirement already satisfied: simplegeneric>0.8 in c:\\users\\andyxu\\appdata\\local\\continuum\\anaconda3\\lib\\site-packages (from ipython->pixiedust_node)\n",
      "Requirement already satisfied: traitlets>=4.2 in c:\\users\\andyxu\\appdata\\local\\continuum\\anaconda3\\lib\\site-packages (from ipython->pixiedust_node)\n",
      "Requirement already satisfied: prompt_toolkit<2.0.0,>=1.0.4 in c:\\users\\andyxu\\appdata\\local\\continuum\\anaconda3\\lib\\site-packages (from ipython->pixiedust_node)\n",
      "Requirement already satisfied: pygments in c:\\users\\andyxu\\appdata\\local\\continuum\\anaconda3\\lib\\site-packages (from ipython->pixiedust_node)\n",
      "Requirement already satisfied: colorama in c:\\users\\andyxu\\appdata\\local\\continuum\\anaconda3\\lib\\site-packages (from ipython->pixiedust_node)\n",
      "Requirement already satisfied: six<2.0,>=1.6.1 in c:\\users\\andyxu\\appdata\\local\\continuum\\anaconda3\\lib\\site-packages (from astunparse->pixiedust->pixiedust_node)\n",
      "Requirement already satisfied: wheel<1.0,>=0.23.0 in c:\\users\\andyxu\\appdata\\local\\continuum\\anaconda3\\lib\\site-packages (from astunparse->pixiedust->pixiedust_node)\n",
      "Requirement already satisfied: ipython_genutils in c:\\users\\andyxu\\appdata\\local\\continuum\\anaconda3\\lib\\site-packages (from traitlets>=4.2->ipython->pixiedust_node)\n",
      "Requirement already satisfied: wcwidth in c:\\users\\andyxu\\appdata\\local\\continuum\\anaconda3\\lib\\site-packages (from prompt_toolkit<2.0.0,>=1.0.4->ipython->pixiedust_node)\n",
      "Building wheels for collected packages: pixiedust-node\n",
      "  Running setup.py bdist_wheel for pixiedust-node: started\n",
      "  Running setup.py bdist_wheel for pixiedust-node: finished with status 'done'\n",
      "  Stored in directory: C:\\Users\\andyxu\\AppData\\Local\\pip\\Cache\\wheels\\0e\\6f\\bc\\b15e5b57deddd8d035afc9f61b1c6e474f3789b3fa95999126\n",
      "Successfully built pixiedust-node\n",
      "Installing collected packages: pixiedust-node\n",
      "Successfully installed pixiedust-node-0.2.5\n"
     ]
    },
    {
     "name": "stderr",
     "output_type": "stream",
     "text": [
      "You are using pip version 9.0.1, however version 10.0.1 is available.\n",
      "You should consider upgrading via the 'python -m pip install --upgrade pip' command.\n"
     ]
    }
   ],
   "source": [
    "!pip install pixiedust\n",
    "!pip install pixiedust_node"
   ]
  },
  {
   "cell_type": "code",
   "execution_count": 2,
   "metadata": {},
   "outputs": [
    {
     "name": "stdout",
     "output_type": "stream",
     "text": [
      "Pixiedust database opened successfully\n",
      "Table VERSION_TRACKER created successfully\n",
      "Table METRICS_TRACKER created successfully\n",
      "\n",
      "Share anonymous install statistics? (opt-out instructions)\n",
      "\n",
      "PixieDust will record metadata on its environment the next time the package is installed or updated. The data is anonymized and aggregated to help plan for future releases, and records only the following values:\n",
      "\n",
      "{\n",
      "   \"data_sent\": currentDate,\n",
      "   \"runtime\": \"python\",\n",
      "   \"application_version\": currentPixiedustVersion,\n",
      "   \"space_id\": nonIdentifyingUniqueId,\n",
      "   \"config\": {\n",
      "       \"repository_id\": \"https://github.com/ibm-watson-data-lab/pixiedust\",\n",
      "       \"target_runtimes\": [\"Data Science Experience\"],\n",
      "       \"event_id\": \"web\",\n",
      "       \"event_organizer\": \"dev-journeys\"\n",
      "   }\n",
      "}\n",
      "You can opt out by calling pixiedust.optOut() in a new cell.\n"
     ]
    },
    {
     "data": {
      "text/html": [
       "\n",
       "        <div style=\"margin:10px\">\n",
       "            <a href=\"https://github.com/ibm-watson-data-lab/pixiedust\" target=\"_new\">\n",
       "                <img src=\"https://github.com/ibm-watson-data-lab/pixiedust/raw/master/docs/_static/pd_icon32.png\" style=\"float:left;margin-right:10px\"/>\n",
       "            </a>\n",
       "            <span>Pixiedust version 1.1.10</span>\n",
       "        </div>\n",
       "        "
      ],
      "text/plain": [
       "<IPython.core.display.HTML object>"
      ]
     },
     "metadata": {},
     "output_type": "display_data"
    },
    {
     "name": "stdout",
     "output_type": "stream",
     "text": [
      "Pixiedust runtime updated. Please restart kernel\n",
      "Table USER_PREFERENCES created successfully\n",
      "Table service_connections created successfully\n"
     ]
    },
    {
     "data": {
      "text/html": [
       "\n",
       "            <div style=\"margin:10px\"> \n",
       "            <a href=\"https://github.com/ibm-cds-labs/pixiedust_node\" target=\"_new\"> \n",
       "            <img src=\"https://github.com/ibm-cds-labs/pixiedust_node/raw/master/docs/_images/pdn_icon32.png\" style=\"float:left;margin-right:10px\"/> \n",
       "            </a> \n",
       "            <span>Pixiedust Node.js</span> \n",
       "            </div> \n"
      ],
      "text/plain": [
       "<IPython.core.display.HTML object>"
      ]
     },
     "metadata": {},
     "output_type": "display_data"
    },
    {
     "name": "stdout",
     "output_type": "stream",
     "text": [
      "pixiedust_node 0.2.5 started. Cells starting '%%node' may contain Node.js code.\n"
     ]
    }
   ],
   "source": [
    "import pixiedust_node"
   ]
  },
  {
   "cell_type": "code",
   "execution_count": 3,
   "metadata": {},
   "outputs": [
    {
     "name": "stdout",
     "output_type": "stream",
     "text": [
      "\"2018-05-15T20:40:47.824Z\"\n"
     ]
    }
   ],
   "source": [
    "%%node\n",
    "var date = new Date();\n",
    "print(date);"
   ]
  },
  {
   "cell_type": "code",
   "execution_count": null,
   "metadata": {
    "collapsed": true
   },
   "outputs": [],
   "source": []
  }
 ],
 "metadata": {
  "kernelspec": {
   "display_name": "Python 3",
   "language": "python",
   "name": "python3"
  },
  "language_info": {
   "codemirror_mode": {
    "name": "ipython",
    "version": 3
   },
   "file_extension": ".py",
   "mimetype": "text/x-python",
   "name": "python",
   "nbconvert_exporter": "python",
   "pygments_lexer": "ipython3",
   "version": "3.6.5"
  }
 },
 "nbformat": 4,
 "nbformat_minor": 2
}
